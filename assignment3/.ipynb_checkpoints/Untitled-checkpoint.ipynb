{
 "cells": [
  {
   "cell_type": "code",
   "execution_count": 1,
   "id": "cae56adc",
   "metadata": {},
   "outputs": [
    {
     "name": "stdout",
     "output_type": "stream",
     "text": [
      "Looking in indexes: https://pypi.org/simple, https://pypi.ngc.nvidia.com\n",
      "Requirement already satisfied: opt_einsum in d:\\python\\lib\\site-packages (3.3.0)\n",
      "Collecting graphviz\n",
      "  Downloading graphviz-0.20-py3-none-any.whl (46 kB)\n",
      "     -------------------------------------- 47.0/47.0 kB 592.9 kB/s eta 0:00:00\n",
      "Collecting stanza\n",
      "  Downloading stanza-1.4.0-py3-none-any.whl (574 kB)\n",
      "     -------------------------------------- 574.7/574.7 kB 3.0 MB/s eta 0:00:00\n",
      "Requirement already satisfied: numpy>=1.7 in d:\\python\\lib\\site-packages (from opt_einsum) (1.21.2)\n",
      "Requirement already satisfied: torch>=1.3.0 in d:\\python\\lib\\site-packages (from stanza) (1.8.0+cu111)\n",
      "Requirement already satisfied: protobuf in d:\\python\\lib\\site-packages (from stanza) (3.19.3)\n",
      "Collecting emoji\n",
      "  Downloading emoji-1.7.0.tar.gz (175 kB)\n",
      "     ------------------------------------- 175.4/175.4 kB 11.0 MB/s eta 0:00:00\n",
      "  Preparing metadata (setup.py): started\n",
      "  Preparing metadata (setup.py): finished with status 'done'\n"
     ]
    },
    {
     "name": "stderr",
     "output_type": "stream",
     "text": [
      "WARNING: There was an error checking the latest version of pip.\n"
     ]
    },
    {
     "name": "stdout",
     "output_type": "stream",
     "text": [
      "Requirement already satisfied: six in d:\\python\\lib\\site-packages (from stanza) (1.16.0)\n",
      "Requirement already satisfied: tqdm in d:\\python\\lib\\site-packages (from stanza) (4.62.3)\n",
      "Collecting transformers\n",
      "  Downloading transformers-4.19.2-py3-none-any.whl (4.2 MB)\n",
      "     ---------------------------------------- 4.2/4.2 MB 20.5 MB/s eta 0:00:00\n",
      "Requirement already satisfied: requests in d:\\python\\lib\\site-packages (from stanza) (2.26.0)\n",
      "Requirement already satisfied: typing-extensions in d:\\python\\lib\\site-packages (from torch>=1.3.0->stanza) (4.0.1)\n",
      "Requirement already satisfied: idna<4,>=2.5 in d:\\python\\lib\\site-packages (from requests->stanza) (3.2)\n",
      "Requirement already satisfied: charset-normalizer~=2.0.0 in d:\\python\\lib\\site-packages (from requests->stanza) (2.0.4)\n",
      "Requirement already satisfied: urllib3<1.27,>=1.21.1 in d:\\python\\lib\\site-packages (from requests->stanza) (1.26.6)\n",
      "Requirement already satisfied: certifi>=2017.4.17 in d:\\python\\lib\\site-packages (from requests->stanza) (2021.5.30)\n",
      "Requirement already satisfied: colorama in d:\\python\\lib\\site-packages (from tqdm->stanza) (0.4.4)\n",
      "Requirement already satisfied: pyyaml>=5.1 in d:\\python\\lib\\site-packages (from transformers->stanza) (6.0)\n",
      "Requirement already satisfied: regex!=2019.12.17 in d:\\python\\lib\\site-packages (from transformers->stanza) (2022.3.15)\n",
      "Collecting tokenizers!=0.11.3,<0.13,>=0.11.1\n",
      "  Downloading tokenizers-0.12.1-cp39-cp39-win_amd64.whl (3.3 MB)\n",
      "     ---------------------------------------- 3.3/3.3 MB 23.4 MB/s eta 0:00:00\n",
      "Requirement already satisfied: packaging>=20.0 in d:\\python\\lib\\site-packages (from transformers->stanza) (21.0)\n",
      "Collecting filelock\n",
      "  Downloading filelock-3.7.1-py3-none-any.whl (10 kB)\n",
      "Collecting huggingface-hub<1.0,>=0.1.0\n",
      "  Downloading huggingface_hub-0.7.0-py3-none-any.whl (86 kB)\n",
      "     ---------------------------------------- 86.2/86.2 kB ? eta 0:00:00\n",
      "Requirement already satisfied: pyparsing>=2.0.2 in d:\\python\\lib\\site-packages (from packaging>=20.0->transformers->stanza) (2.4.7)\n",
      "Building wheels for collected packages: emoji\n",
      "  Building wheel for emoji (setup.py): started\n",
      "  Building wheel for emoji (setup.py): finished with status 'done'\n",
      "  Created wheel for emoji: filename=emoji-1.7.0-py3-none-any.whl size=171046 sha256=5ecb0921a64a536ef57f1daf914fa95c296da9eb12f0d1a2b01d447a86b5e8b1\n",
      "  Stored in directory: C:\\Users\\yoush\\AppData\\Local\\Temp\\pip-ephem-wheel-cache-btlk2eky\\wheels\\fa\\7a\\e9\\22dd0515e1bad255e51663ee513a2fa839c95934c5fc301090\n",
      "Successfully built emoji\n",
      "Installing collected packages: tokenizers, emoji, graphviz, filelock, huggingface-hub, transformers, stanza\n",
      "Successfully installed emoji-1.7.0 filelock-3.7.1 graphviz-0.20 huggingface-hub-0.7.0 stanza-1.4.0 tokenizers-0.12.1 transformers-4.19.2\n"
     ]
    }
   ],
   "source": [
    "!pip install opt_einsum graphviz stanza"
   ]
  },
  {
   "cell_type": "code",
   "execution_count": 2,
   "id": "50bfc99b",
   "metadata": {},
   "outputs": [
    {
     "name": "stdout",
     "output_type": "stream",
     "text": [
      "Building the fields\n",
      "Namespace(feat=None, encoder='lstm', max_len=None, buckets=32, batch_size=256, data='data/ptb/', embed=None, unk='unk', n_embed=100, n_lstm_hidden=200, n_lstm_layers=2, epochs=10, lr=0.002, mu=0.9, nu=0.9, eps=1e-12, weight_decay=1e-05, clip=5.0, draw_pred=False, device='cuda', mbr=True, delete={'', '.', ':', \"''\", '-NONE-', '``', '?', '!', ',', 'S1', 'TOP'}, equal={'ADVP': 'PRT'}, train='data/ptb/train.pid', dev='data/ptb/dev.pid', test='data/ptb/test.pid', n_words=10, n_labels=2, n_tags=3, pad_index=0, unk_index=1, bos_index=2, eos_index=3)\n",
      "Building the model\n",
      "Model(\n",
      "  (word_embed): Embedding(10, 100)\n",
      "  (tag_embed): Embedding(3, 100)\n",
      "  (embed_dropout): Dropout(p=0.33, inplace=False)\n",
      "  (encoder): LSTM(200, 200, num_layers=2, dropout=0.33, bidirectional=True)\n",
      "  (encoder_dropout): Dropout(p=0.33, inplace=False)\n",
      "  (mlp_l): MLP(n_in=400, n_out=100, dropout=0.33)\n",
      "  (mlp_r): MLP(n_in=400, n_out=100, dropout=0.33)\n",
      "  (feat_biaffine): Biaffine(n_in=100, n_out=2, bias_x=True, bias_y=True)\n",
      "  (crf): CRFConstituency()\n"
     ]
    },
    {
     "name": "stderr",
     "output_type": "stream",
     "text": [
      "Traceback (most recent call last):\n",
      "  File \"D:\\291NLP\\cse291spr21\\assignment3\\main.py\", line 671, in <module>\n",
      "    train(model, traindata, devdata, optimizer)\n",
      "  File \"D:\\291NLP\\cse291spr21\\assignment3\\main.py\", line 501, in train\n",
      "    loss, dev_metric = evaluate(model, devdata.loader)\n",
      "  File \"D:\\python\\lib\\site-packages\\torch\\autograd\\grad_mode.py\", line 27, in decorate_context\n",
      "    return func(*args, **kwargs)\n",
      "  File \"D:\\291NLP\\cse291spr21\\assignment3\\main.py\", line 550, in evaluate\n",
      "    loss, s_feat = model.loss(s_feat, charts, mask, require_marginals=True)\n",
      "  File \"D:\\291NLP\\cse291spr21\\assignment3\\main.py\", line 462, in loss\n",
      "    loss, scores = self.crf(scores, mask, charts, require_marginals=require_marginals)\n",
      "  File \"D:\\python\\lib\\site-packages\\torch\\nn\\modules\\module.py\", line 889, in _call_impl\n",
      "    result = self.forward(*input, **kwargs)\n",
      "  File \"D:\\python\\lib\\site-packages\\torch\\autograd\\grad_mode.py\", line 27, in decorate_context\n",
      "    return func(*args, **kwargs)\n",
      "  File \"D:\\291NLP\\cse291spr21\\assignment3\\main.py\", line 219, in forward\n",
      "    probs, = autograd.grad(logZ, scores, retain_graph=scores.requires_grad)\n",
      "  File \"D:\\python\\lib\\site-packages\\torch\\autograd\\__init__.py\", line 223, in grad\n",
      "    return Variable._execution_engine.run_backward(\n",
      "RuntimeError: element 0 of tensors does not require grad and does not have a grad_fn\n"
     ]
    },
    {
     "name": "stdout",
     "output_type": "stream",
     "text": [
      "  (criterion): CrossEntropyLoss()\n",
      ")\n",
      "\n",
      "train: Dataset(n_sentences=1, n_batches=1, n_buckets=1)\n",
      "dev:   Dataset(n_sentences=1, n_batches=1, n_buckets=1)\n",
      "test:  Dataset(n_sentences=1, n_batches=1, n_buckets=1)\n",
      "\n",
      "Epoch 1 / 10:\n",
      "0 iter of epoch 1, loss: -inf\n"
     ]
    }
   ],
   "source": [
    "!python main.py"
   ]
  },
  {
   "cell_type": "code",
   "execution_count": null,
   "id": "99947e74",
   "metadata": {},
   "outputs": [],
   "source": []
  }
 ],
 "metadata": {
  "kernelspec": {
   "display_name": "Python 3 (ipykernel)",
   "language": "python",
   "name": "python3"
  },
  "language_info": {
   "codemirror_mode": {
    "name": "ipython",
    "version": 3
   },
   "file_extension": ".py",
   "mimetype": "text/x-python",
   "name": "python",
   "nbconvert_exporter": "python",
   "pygments_lexer": "ipython3",
   "version": "3.9.7"
  }
 },
 "nbformat": 4,
 "nbformat_minor": 5
}
